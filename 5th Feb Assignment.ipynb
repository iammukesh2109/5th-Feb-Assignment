{
 "cells": [
  {
   "cell_type": "code",
   "execution_count": 2,
   "id": "04eacaaf-d38d-4015-89d9-9710053b475b",
   "metadata": {},
   "outputs": [
    {
     "data": {
      "text/plain": [
       "'A class is a template or a blueprint for creating objects. It defines the attributes (also known as properties or fields) and methods \\n(also known as functions or behaviors) that the objects of that class will have.\\n\\nAn object, on the other hand, is an instance of a class. It is created using the blueprint defined by the class. Objects have their own set\\nof values for the attributes defined by the class, and they can also invoke the methods defined by the class.'"
      ]
     },
     "execution_count": 2,
     "metadata": {},
     "output_type": "execute_result"
    }
   ],
   "source": [
    "#1. Explain Class and Object with respect to Object-Oriented Programming.Give a suitable example.\n",
    "\"\"\"A class is a template or a blueprint for creating objects. It defines the attributes (also known as properties or fields) and methods \n",
    "(also known as functions or behaviors) that the objects of that class will have.\n",
    "\n",
    "An object, on the other hand, is an instance of a class. It is created using the blueprint defined by the class. Objects have their own set\n",
    "of values for the attributes defined by the class, and they can also invoke the methods defined by the class.\"\"\""
   ]
  },
  {
   "cell_type": "code",
   "execution_count": 12,
   "id": "f8787082-d845-4bf1-8f93-87e74b73c1da",
   "metadata": {},
   "outputs": [],
   "source": [
    "#Example of class and object\n",
    "class Person:\n",
    "    def __init__(self,name,age,gender,occupation):\n",
    "        self.name=name\n",
    "        self.age=age\n",
    "        self.gender=gender\n",
    "        self.occupation=occupation\n",
    "    \n",
    "    def walk(self):\n",
    "        print(self.name +\" is walking\")\n",
    "    def talk(self):\n",
    "        print(self.name +\" is talking\")\n",
    "    def eat(self):\n",
    "        print(self.name +\" is eating\")      "
   ]
  },
  {
   "cell_type": "code",
   "execution_count": 17,
   "id": "21bea1c6-5001-4781-bd2f-16714d2e0e92",
   "metadata": {},
   "outputs": [],
   "source": [
    "## Creating objects of the Person class\n",
    "person1 =Person(\"mukesh\",25,\"male\",\"system engineer\")\n",
    "person2=Person(\"amit\",27,\"male\",\"java developer\")"
   ]
  },
  {
   "cell_type": "code",
   "execution_count": 18,
   "id": "ba9a0420-f2b0-459f-8976-b4270783d12e",
   "metadata": {},
   "outputs": [
    {
     "name": "stdout",
     "output_type": "stream",
     "text": [
      "mukesh\n"
     ]
    }
   ],
   "source": [
    "## Accessing attributes and invoking methods of the Person objects\n",
    "print(person1.name)"
   ]
  },
  {
   "cell_type": "code",
   "execution_count": 19,
   "id": "6348b71d-50b1-4fb8-bbe7-53e47e1188c3",
   "metadata": {},
   "outputs": [
    {
     "name": "stdout",
     "output_type": "stream",
     "text": [
      "mukesh is walking\n"
     ]
    }
   ],
   "source": [
    "person1.walk()"
   ]
  },
  {
   "cell_type": "code",
   "execution_count": 20,
   "id": "7443314c-e509-474c-8021-cc817d2df6a5",
   "metadata": {},
   "outputs": [
    {
     "name": "stdout",
     "output_type": "stream",
     "text": [
      "amit is eating\n"
     ]
    }
   ],
   "source": [
    "person2.eat()"
   ]
  },
  {
   "cell_type": "code",
   "execution_count": 21,
   "id": "9b6ec414-7103-494b-b19b-d44a255d1569",
   "metadata": {},
   "outputs": [
    {
     "data": {
      "text/plain": [
       "'The four pillars of Object-Oriented Programming (OOP) are:\\n\\nEncapsulation: It is the technique of bundling data and methods that act on that data within a single unit, i.e., a class. It hides the \\ninternal workings of the object from the outside world and provides a well-defined interface for interacting with the object.\\n\\nAbstraction: It is the process of identifying the essential features of an object and ignoring the irrelevant details. It allows us to \\ncreate a simplified representation of an object in our program, making it easier to work with.\\n\\nInheritance: It is a mechanism that allows a new class to be based on an existing class, inheriting all its properties and methods. This \\nhelps to create a hierarchy of classes, where the child class can extend or modify the behavior of the parent class.\\n\\nPolymorphism: It is the ability of an object to take on many forms, depending on the context in which it is used. In OOP, polymorphism is \\nachieved through method overriding (where a child class overrides a method of its parent class) and method overloading (where a class has \\nmultiple methods with the same name but different parameters).'"
      ]
     },
     "execution_count": 21,
     "metadata": {},
     "output_type": "execute_result"
    }
   ],
   "source": [
    "#2.Name the four pillar of OOPs.\n",
    "\"\"\"The four pillars of Object-Oriented Programming (OOP) are:\n",
    "\n",
    "Encapsulation: It is the technique of bundling data and methods that act on that data within a single unit, i.e., a class. It hides the \n",
    "internal workings of the object from the outside world and provides a well-defined interface for interacting with the object.\n",
    "\n",
    "Abstraction: It is the process of identifying the essential features of an object and ignoring the irrelevant details. It allows us to \n",
    "create a simplified representation of an object in our program, making it easier to work with.\n",
    "\n",
    "Inheritance: It is a mechanism that allows a new class to be based on an existing class, inheriting all its properties and methods. This \n",
    "helps to create a hierarchy of classes, where the child class can extend or modify the behavior of the parent class.\n",
    "\n",
    "Polymorphism: It is the ability of an object to take on many forms, depending on the context in which it is used. In OOP, polymorphism is \n",
    "achieved through method overriding (where a child class overrides a method of its parent class) and method overloading (where a class has \n",
    "multiple methods with the same name but different parameters).\"\"\""
   ]
  },
  {
   "cell_type": "code",
   "execution_count": 22,
   "id": "27c01645-9aba-4a85-a078-7779369699ed",
   "metadata": {},
   "outputs": [
    {
     "name": "stdout",
     "output_type": "stream",
     "text": [
      "Toyota\n",
      "Camry\n",
      "2020\n",
      "0\n",
      "20\n",
      "10\n"
     ]
    }
   ],
   "source": [
    "#3. Explain why the __init__()function is used.Give a suitable example.\n",
    "\"\"\"The __init__() function is a special method in Python that is used to initialize an object of a class. It is called automatically when \n",
    "an object is created and is used to set the initial state of the object by assigning values to its attributes.\"\"\"\n",
    "class Car:\n",
    "    def __init__(self, make, model, year):\n",
    "        self.make = make\n",
    "        self.model = model\n",
    "        self.year = year\n",
    "        self.speed = 0\n",
    "\n",
    "    def accelerate(self, amount):\n",
    "        self.speed += amount\n",
    "\n",
    "    def brake(self, amount):\n",
    "        self.speed -= amount\n",
    "\n",
    "# Create a car object\n",
    "my_car = Car(\"Toyota\", \"Camry\", 2020)\n",
    "\n",
    "# Accessing the car object's attributes\n",
    "print(my_car.make)\n",
    "print(my_car.model)\n",
    "print(my_car.year)\n",
    "print(my_car.speed)\n",
    "\n",
    "# Calling car object's methods\n",
    "my_car.accelerate(20)\n",
    "print(my_car.speed)\n",
    "\n",
    "my_car.brake(10)\n",
    "print(my_car.speed)\n"
   ]
  },
  {
   "cell_type": "code",
   "execution_count": 23,
   "id": "2804d54f-d26a-49dc-90d1-5d890ddec336",
   "metadata": {},
   "outputs": [
    {
     "data": {
      "text/plain": [
       "'In object-oriented programming (OOP), self is a reference to the instance of the class that is currently being manipulated. It is a \\nconvention in Python to use self as the first parameter of instance methods in a class, although you can use any other name as well.\\n\\nWhen a method is called on an instance of a class, Python automatically passes a reference to that instance as the first argument to the \\nmethod. By convention, this argument is named self, and it allows the method to access and manipulate the attributes of the instance.\\n\\nThe self parameter is used to distinguish between the attributes of the instance and the attributes of the class. In Python, instance \\nattributes are created and accessed using the self keyword, while class attributes are created and accessed using the class name.'"
      ]
     },
     "execution_count": 23,
     "metadata": {},
     "output_type": "execute_result"
    }
   ],
   "source": [
    "#4.Why self is used in OOPs?\n",
    "\"\"\"In object-oriented programming (OOP), self is a reference to the instance of the class that is currently being manipulated. It is a \n",
    "convention in Python to use self as the first parameter of instance methods in a class, although you can use any other name as well.\n",
    "\n",
    "When a method is called on an instance of a class, Python automatically passes a reference to that instance as the first argument to the \n",
    "method. By convention, this argument is named self, and it allows the method to access and manipulate the attributes of the instance.\n",
    "\n",
    "The self parameter is used to distinguish between the attributes of the instance and the attributes of the class. In Python, instance \n",
    "attributes are created and accessed using the self keyword, while class attributes are created and accessed using the class name.\"\"\""
   ]
  },
  {
   "cell_type": "code",
   "execution_count": 24,
   "id": "392a2867-074c-4cc6-814e-10744d6d7f88",
   "metadata": {},
   "outputs": [
    {
     "data": {
      "text/plain": [
       "'Inheritance is a fundamental concept in object-oriented programming (OOP) that allows one class to inherit properties and methods from \\nanother class. The class that is being inherited from is called the parent class, super class or base class, and the class that inherits \\nfrom it is called the child class, sub class or derived class.'"
      ]
     },
     "execution_count": 24,
     "metadata": {},
     "output_type": "execute_result"
    }
   ],
   "source": [
    "#5.What is inheritance? Give an example for each type of inheritance.\n",
    "\"\"\"Inheritance is a fundamental concept in object-oriented programming (OOP) that allows one class to inherit properties and methods from \n",
    "another class. The class that is being inherited from is called the parent class, super class or base class, and the class that inherits \n",
    "from it is called the child class, sub class or derived class.\"\"\"\n"
   ]
  },
  {
   "cell_type": "code",
   "execution_count": 25,
   "id": "b88a3a14-e802-408f-a479-20e8e843afb3",
   "metadata": {},
   "outputs": [
    {
     "name": "stdout",
     "output_type": "stream",
     "text": [
      "Fido\n",
      "Woof!\n"
     ]
    }
   ],
   "source": [
    "#Single inheritance: A child class inherits properties and methods from a single parent class.\n",
    "class Animal:\n",
    "    def __init__(self, name):\n",
    "        self.name = name\n",
    "\n",
    "    def speak(self):\n",
    "        raise NotImplementedError(\"Subclass must implement abstract method\")\n",
    "\n",
    "class Dog(Animal):\n",
    "    def speak(self):\n",
    "        return \"Woof!\"\n",
    "\n",
    "my_dog = Dog(\"Fido\")\n",
    "print(my_dog.name)\n",
    "print(my_dog.speak())\n"
   ]
  },
  {
   "cell_type": "code",
   "execution_count": 26,
   "id": "00bb3df7-af12-477b-a976-c715b1e07aeb",
   "metadata": {},
   "outputs": [
    {
     "name": "stdout",
     "output_type": "stream",
     "text": [
      "Perry\n",
      "Platypus\n",
      "I am feeding my young with milk.\n"
     ]
    }
   ],
   "source": [
    "#Multiple inheritance: A child class inherits properties and methods from multiple parent classes.\n",
    "class Animal:\n",
    "    def __init__(self, name):\n",
    "        self.name = name\n",
    "\n",
    "class Mammal:\n",
    "    def feed_young_with_milk(self):\n",
    "        return \"I am feeding my young with milk.\"\n",
    "\n",
    "class Platypus(Animal, Mammal):\n",
    "    def __init__(self, name):\n",
    "        Animal.__init__(self, name)\n",
    "        self.species = \"Platypus\"\n",
    "\n",
    "my_platypus = Platypus(\"Perry\")\n",
    "print(my_platypus.name)\n",
    "print(my_platypus.species)\n",
    "print(my_platypus.feed_young_with_milk())\n"
   ]
  },
  {
   "cell_type": "code",
   "execution_count": 31,
   "id": "9671f720-16a0-4bdb-ab12-84b8b348d0e5",
   "metadata": {},
   "outputs": [
    {
     "name": "stdout",
     "output_type": "stream",
     "text": [
      "Fido\n",
      "Woof!\n",
      "Whiskers\n",
      "Meow!\n"
     ]
    }
   ],
   "source": [
    "\"\"\"Hierarchical inheritance: Multiple child classes inherit properties and methods from a single parent class.\"\"\"\n",
    "class Animal:\n",
    "    def __init__(self, name):\n",
    "        self.name = name\n",
    "\n",
    "class Dog(Animal):\n",
    "    def speak(self):\n",
    "        return \"Woof!\"\n",
    "\n",
    "class Cat(Animal):\n",
    "    def speak(self):\n",
    "        return \"Meow!\"\n",
    "\n",
    "my_dog = Dog(\"Fido\")\n",
    "my_cat = Cat(\"Whiskers\")\n",
    "print(my_dog.name)\n",
    "print(my_dog.speak())\n",
    "print(my_cat.name)\n",
    "print(my_cat.speak())\n"
   ]
  },
  {
   "cell_type": "code",
   "execution_count": 30,
   "id": "89c99b44-1ecd-4633-a516-bc907ee9992f",
   "metadata": {},
   "outputs": [
    {
     "data": {
      "text/plain": [
       "'Multilevel inheritance: In multilevel inheritance, a derived class inherits from a base class, which in turn inherits from another base class.'"
      ]
     },
     "execution_count": 30,
     "metadata": {},
     "output_type": "execute_result"
    }
   ],
   "source": [
    "\"\"\"Multilevel inheritance: In multilevel inheritance, a derived class inherits from a base class, which in turn inherits from another base class.\"\"\""
   ]
  },
  {
   "cell_type": "code",
   "execution_count": 35,
   "id": "1582343d-5263-42e0-9649-f4921e37fe5a",
   "metadata": {},
   "outputs": [
    {
     "data": {
      "text/plain": [
       "'Hybrid inheritance: Hybrid inheritance is a combination of multiple inheritance and hierarchical inheritance, where multiple derived classes \\ninherit from multiple base classes, including a shared base class.'"
      ]
     },
     "execution_count": 35,
     "metadata": {},
     "output_type": "execute_result"
    }
   ],
   "source": [
    "\"\"\"Hybrid inheritance: Hybrid inheritance is a combination of multiple inheritance and hierarchical inheritance, where multiple derived classes \n",
    "inherit from multiple base classes, including a shared base class.\"\"\""
   ]
  },
  {
   "cell_type": "code",
   "execution_count": null,
   "id": "6ee427be-d1fb-4e78-bd31-e17410c8c50f",
   "metadata": {},
   "outputs": [],
   "source": []
  }
 ],
 "metadata": {
  "kernelspec": {
   "display_name": "Python 3 (ipykernel)",
   "language": "python",
   "name": "python3"
  },
  "language_info": {
   "codemirror_mode": {
    "name": "ipython",
    "version": 3
   },
   "file_extension": ".py",
   "mimetype": "text/x-python",
   "name": "python",
   "nbconvert_exporter": "python",
   "pygments_lexer": "ipython3",
   "version": "3.10.6"
  }
 },
 "nbformat": 4,
 "nbformat_minor": 5
}
